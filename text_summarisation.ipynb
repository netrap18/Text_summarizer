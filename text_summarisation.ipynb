{
 "cells": [
  {
   "cell_type": "markdown",
   "metadata": {},
   "source": [
    "## Imports"
   ]
  },
  {
   "cell_type": "code",
   "execution_count": 1,
   "metadata": {},
   "outputs": [],
   "source": [
    "# !pip3 install os\n",
    "from os import listdir\n",
    "import string\n",
    "from pickle import dump,load"
   ]
  },
  {
   "cell_type": "markdown",
   "metadata": {},
   "source": [
    "## Loading the Data"
   ]
  },
  {
   "cell_type": "code",
   "execution_count": 2,
   "metadata": {},
   "outputs": [],
   "source": [
    "class LoadData:\n",
    "    def __init__(self, directory):\n",
    "        self.directory= directory\n",
    "        \n",
    "    def load_stories(self):\n",
    "        \"\"\"\n",
    "        Load the data and store it in a list of dictionaries\n",
    "        \n",
    "        \"\"\"\n",
    "        all_stories= list()\n",
    "        \n",
    "        def load_doc(filename):\n",
    "            \"\"\"\n",
    "            Return the data from a given filename\n",
    "            \"\"\"\n",
    "            file = open(filename, encoding='utf-8')\n",
    "            text = file.read()\n",
    "            file.close()\n",
    "            return text\n",
    "        \n",
    "        def split_story(doc):\n",
    "            \"\"\"\n",
    "            Split story from summaries based on the separater -> \"@highlight\"\n",
    "            \"\"\"\n",
    "            index = doc.find('@highlight')\n",
    "            story, highlights = doc[:index], doc[index:].split('@highlight')\n",
    "            highlights = [h.strip() for h in highlights if len(h) > 0]\n",
    "            return story, highlights\n",
    "        \n",
    "        list_of_files= listdir(self.directory)\n",
    "        for name in list_of_files[:1000]:\n",
    "            filename = self.directory + '/' + name\n",
    "            doc = load_doc(filename)\n",
    "            story, highlights= split_story(doc)\n",
    "            all_stories.append({'story': story, 'highlights': highlights})\n",
    "        \n",
    "        return all_stories"
   ]
  },
  {
   "cell_type": "code",
   "execution_count": 3,
   "metadata": {},
   "outputs": [],
   "source": [
    "DIR_PATH= \"/home/nikhil/Downloads/cnn/stories\"\n",
    "obj= LoadData(DIR_PATH)\n",
    "stories= obj.load_stories()"
   ]
  },
  {
   "cell_type": "code",
   "execution_count": 4,
   "metadata": {},
   "outputs": [
    {
     "data": {
      "text/plain": [
       "1000"
      ]
     },
     "execution_count": 4,
     "metadata": {},
     "output_type": "execute_result"
    }
   ],
   "source": [
    "len(stories)"
   ]
  },
  {
   "cell_type": "code",
   "execution_count": 5,
   "metadata": {},
   "outputs": [
    {
     "name": "stdout",
     "output_type": "stream",
     "text": [
      "['Shirley Sotloff pleads directly to the leader of ISIS', '\"Please release my child,\" she says', 'Steven Sotloff disappeared while reporting in Syria last year']\n",
      "\n",
      "A mother's plea to the terrorists holding her son hostage: No individual should be punished for events he cannot control.\n",
      "\n",
      "The mother is Shirley Sotloff, and she speaks directly to ISIS leader  Abu Bakr al-Baghdadi in a video broadcast Wednesday on Al Arabiya Network.\n",
      "\n",
      "Her son, freelance journalist Steven Sotloff, appeared last week in an ISIS video showing the decapitation of American journalist James Foley.\n",
      "\n",
      "The militant in the video warns that Steven Sotloff's fate depends on what President Barack Obama does next in Iraq.\n",
      "\n",
      "A day after the video was posted, Obama vowed that the United States would be \"relentless\" in striking back against ISIS.\n",
      "\n",
      "\"Steven is a journalist who traveled to the Middle East to cover the suffering of Muslims at the hands of tyrants. Steven is a loyal and generous son, brother and grandson,\" Shirley Sotloff said in the rare public appeal. \"He is an honorable man and has always tried to help the weak.\"\n",
      "\n",
      "The journalist has no control over what the United States government does, and he should not be held responsible for its actions, she says.\n",
      "\n",
      "\"He's an innocent journalist,\" she said.\n",
      "\n",
      "Friends of ISIS captive Sotloff speak out admiringly of his talent, passion\n",
      "\n",
      "The mother appeals to al-Baghdadi's self-declared title of caliph of the Islamic State.\n",
      "\n",
      "As caliph, he has the power to grant amnesty to Steven Sotloff, the mother said.\n",
      "\n",
      "\"I ask you to please release my child,\" she said.\n",
      "\n",
      "Steven Sotloff disappeared while reporting from Syria in August 2013, but his family kept the news secret, fearing harm to him if they went public.\n",
      "\n",
      "Out of public view, the family and a number of government agencies have been trying to gain Sotloff's release for the past year.\n",
      "\n",
      "Sotloff, 31, grew up in South Florida with his mother, father and younger sister. He majored in journalism at the University of Central Florida. His personal Facebook page lists musicians like the Dave Matthews Band, Phish, Miles Davis and movies like \"Lawrence of Arabia\" and \"The Big Lebowski\" as favorites. On his Twitter page, he playfully identifies himself as a \"stand-up philosopher from Miami.\"\n",
      "\n",
      "In 2004, Sotloff left UCF and moved back to the Miami area.\n",
      "\n",
      "He graduated from another college, began taking Arabic classes and subsequently picked up freelance writing work for a number of publications, including Time, Foreign Policy, World Affairs and the Christian Science Monitor. His travels took him to Yemen, Saudi Arabia, Qatar and Turkey -- among other countries -- and eventually Syria.\n",
      "\n",
      "The following is the full text of Shirley Sotloff's video statement:\n",
      "\n",
      "I'm sending this message to you, Abu Bakr al-Baghdadi ... the caliph of the Islamic State.\n",
      "\n",
      "I am Shirley Sotloff. My son, Steven, is in your hands. Steven is a journalist who traveled to the Middle East to cover the suffering of Muslims at the hands of tyrants.\n",
      "\n",
      "Steven is a loyal and generous son, brother and grandson. He's an honorable man and has always tried to help the weak.\n",
      "\n",
      "We've not seen Stephen for over a year, and we miss him very much.  We want to see him home safe and sound and to hug him.\n",
      "\n",
      "Since Stephen's capture, I've learned a lot about Islam. I've learned that Islam teaches that no individual should be held responsible for the sins of others.\n",
      "\n",
      "Stephen has no control over the actions of the U.S. government. He's an innocent journalist.\n",
      "\n",
      "I've always learned that you, the caliph, can grant amnesty. I ask you to please release my child.  As a mother, I ask your justice to be merciful and not punish my son for matters he has no control over.\n",
      "\n",
      "I ask you to use your authority to spare his life and to set the example of the Prophet Mohammed, who protected people of the Book.\n",
      "\n",
      "I want what every mother wants: to live to see her children's children.\n",
      "\n",
      "I plead with you to grant me this.\n",
      "\n",
      "Opinion: Foley is a reminder why freelance reporting is so dangerous\n",
      "\n",
      "\n"
     ]
    }
   ],
   "source": [
    "print(stories[10]['highlights'])\n",
    "print()\n",
    "print(stories[10]['story'])"
   ]
  },
  {
   "cell_type": "code",
   "execution_count": 6,
   "metadata": {},
   "outputs": [
    {
     "data": {
      "text/plain": [
       "[{'highlights': ['168 police officers and 67 firefighters are laid off in Camden, New Jersey',\n",
       "   \"City's mayor said she couldn't get $8 million in budget concessions to save jobs\",\n",
       "   'The mayor had been asking police and firefighters for concessions',\n",
       "   'They were asked to pay more for health care and accept salary freezes or reductions'],\n",
       "  'story': '(CNN) -- The mayor of crime-ridden Camden, New Jersey, has announced layoffs of nearly half of the city\\'s police force and close to a third of its fire department.\\n\\nOne hundred sixty-eight police officers and 67 firefighters were laid off Tuesday, as officials struggle to close a $26.5 million budget gap through a series of belt-tightening measures, Mayor Dana Redd told reporters. The layoffs take effect immediately.\\n\\nRedd said she was unable to secure the $8 million in budget concessions that she says she needed to save the jobs of up to 100 police officers and many of the city\\'s firefighters.\\n\\nThe mayor -- who said she will continue negotiations with police and fire unions -- had been asking the workers to pay more for their health care, freeze or reduce their salaries and take furlough days.\\n\\nThe apparent impasse has left administrators of a city with the second-highest crime rate in the nation scrambling to figure out solutions to keep residents safe. Camden is second only to St. Louis, Missouri, in annual rankings of cities based on compilations of FBI crime statistics.\\n\\nSome clerical officers were demoted and reassigned to the streets, the mayor said, pledging that the cuts would not affect public safety.\\n\\n\"We\\'re still going to protect our residents,\" said Robert Corrales, spokesman for Redd. Public safety \"will remain our top concern. We\\'ll shift our resources to be more efficient with what we have.\"\\n\\nBut police and firefighter union officials say the layoffs will most certainly have an impact.\\n\\n\"It\\'s absolutely, physically impossible to cover the same amount of ground in the same amount of time with less people,\" said John Williamson, president of the Fraternal Order of Police union in Camden. \"Response times will be slower.\"\\n\\nOne local business owner, David Brown, said he does not \"understand how you can do more with less.\"\\n\\n\"I don\\'t want to be a pessimist, but I can\\'t be optimistic.\"\\n\\nCamden resident and sanitation worker Gloria Valentin said she is now fearful that the city does not have enough police protection to keep people safe.\\n\\n\"Today is a real sad day in the city of Camden,\" she said.\\n\\n'},\n",
       " {'highlights': ['The leaders of Brazil, Russia, India, China and South Africa hold talks Thursday',\n",
       "   'They agree to study the idea of setting up their own development bank',\n",
       "   'The leaders also call for reform on the International Monetary Fund',\n",
       "   'They say the problems in Syria and Iran can only solved through dialogue'],\n",
       "  'story': 'New Delhi (CNN) -- The leaders of five of the world\\'s top emerging economies moved closer Thursday toward establishing a development bank that could one day serve as an alternative to the World Bank.\\n\\nThe leaders of Brazil, Russia, India, China and South Africa -- collectively known as the BRICS -- \"agreed to examine in greater detail a proposal to set up a BRICS-led South-South Development Bank, funded and managed by the BRICS and other developing countries,\" said Prime Minister Manmohan Singh of India.\\n\\nThe leaders were meeting in New Delhi on Thursday for their fourth annual summit. Finance ministers from the five countries have been directed to look into the idea of the development bank and report back at the next summit, Singh said.\\n\\nThe leaders also asked the International Monetary Fund to speed up changes in its governance to better represent the developing world as a voting bloc.\\n\\n\"The rapid recovery of the BRICS economies from the financial crisis highlighted their role as growth drivers of the global economy,\" Singh said.\\n\\nTogether, the BRICS nations make up more than 40% of the world population and one-fifth of the global economy.\\n\\nThe group called for peaceful resolutions of the Syria and Iranian crises.\\n\\n\"We agreed that a lasting solution to the problems in Syria and Iran can only be found through dialogue,\" Singh said.\\n\\nBesides the IMF, the leaders also urged reforms of the United Nations and other international bodies for a larger voice for the developing world.\\n\\n\"Institutions of global political and economic governance created more than six decades ago have not kept pace with the changing world. While some progress has been made in international financial institutions, there is lack of movement on the political side,\" Singh said. \"BRICS should speak with one voice on important issues such as the reform of the UN Security Council.\"\\n\\n'}]"
      ]
     },
     "execution_count": 6,
     "metadata": {},
     "output_type": "execute_result"
    }
   ],
   "source": [
    "stories[:2]"
   ]
  },
  {
   "cell_type": "markdown",
   "metadata": {},
   "source": [
    "## Data Cleaning"
   ]
  },
  {
   "cell_type": "code",
   "execution_count": 8,
   "metadata": {},
   "outputs": [],
   "source": [
    "class Clean_data:\n",
    "    def __init__(self):\n",
    "        pass\n",
    "           \n",
    "    def clean_lines(self, lines):\n",
    "        cleaned = list()\n",
    "        table = str.maketrans('', '', string.punctuation)\n",
    "        \n",
    "        for line in lines:\n",
    "            index = line.find('(CNN)')\n",
    "            if index >= 0:\n",
    "                line = line[index + len('(CNN)'):]\n",
    "\n",
    "            split_line = line.split()\n",
    "            \n",
    "            split_line = [word.lower() for word in split_line]\n",
    "            split_line = [w.translate(table) for w in split_line]\n",
    "            \n",
    "            split_line = [word for word in split_line if word.isalpha()]\n",
    "            cleaned.append(' '.join(split_line))\n",
    "        cleaned = [c for c in cleaned if len(c) > 0]\n",
    "        return cleaned"
   ]
  },
  {
   "cell_type": "code",
   "execution_count": 12,
   "metadata": {},
   "outputs": [],
   "source": [
    "obj1= Clean_data()\n",
    "cleaned_stories= list()\n",
    "for example in stories[:100]:\n",
    "    cleaned_stories.append({'story': obj1.clean_lines(example['story'].split('\\n')), 'highlights': obj1.clean_lines(example['highlights'])})    "
   ]
  },
  {
   "cell_type": "code",
   "execution_count": 13,
   "metadata": {},
   "outputs": [
    {
     "data": {
      "text/plain": [
       "{'highlights': ['stepmother claims girls father dismembered body',\n",
       "  'a judge releases search warrants from detectives probing zahra bakers death',\n",
       "  'zahras remains were found november a month after she was reported missing'],\n",
       " 'story': ['the stepmother of zahra baker told police the girl was killed two weeks before she was reported missing according to search warrants released tuesday',\n",
       "  'stepmother elisa baker also told police in hickory north carolina that the disabled girls body was disposed of the next day september in various locations according to the documents',\n",
       "  'she told police on november that the girls father adam baker dismembered the girl and the couple disposed of the remains',\n",
       "  'while elisa baker has been charged with obstruction of justice for writing a fake ransom note and leaving it at the familys hickory home no one has been charged directly in the girls death elisa baker also is accused of writing worthless checks',\n",
       "  'police have said she had been cooperating with investigators',\n",
       "  'one of the search warrants details an online conversation a web user said she had with adam andor elisa baker regarding their involvement with chainsaw massacre roleplaying',\n",
       "  'according to the warrant the date of september was given regarding their virtual family doing a murder with chainsaws elisa bakers former husband also was involved in roleplaying according to the conversation',\n",
       "  'catawba superior court judge robert c ervin released the search warrants that provide more insight into the grisly killing of the freckledface girl who lost part of her left leg at age to cancer eleven search warrants were released in december',\n",
       "  'police found some of zahra bakers remains on november just over a month after she was reported her missing',\n",
       "  'in october adam baker who denied he was involved in zahras disappearance tearfully called for the return of his daughter',\n",
       "  'investigators reviewed adam bakers cell phone records and the phones gps locator from september the warrants say according to those records adam bakers phone was not in the areas where zahras remains were found on the day that elisa baker said he disposed of them the warrants say',\n",
       "  'elisa bakers cell phone records indicate that her phone was in those areas on that day the warrants say',\n",
       "  'according to the warrants elisa baker told adam baker that a man she said was her brother actually was her husband she married adam baker before the divorce police said',\n",
       "  'cnn left messages tuesday evening with the attorneys for elisa and adam baker',\n",
       "  'in one of the search warrants released in december a tipster told police that zahra had been at a north carolina home with two men and one of the men said he had done something very bad and needed to leave town',\n",
       "  'one of the men was associated with zahras stepmother but was not zahras father the tipster said',\n",
       "  'the tipster also told police that zahra had been raped by both men and that she had blood on her private area and legs the search warrant said the tipster told police that he got the information about the alleged rape from a friend who was told about it from his sister',\n",
       "  'police went to the home to see if they could confirm the fourthhand information and found a mattress at the side of the house that had a large dark stain in the middle the search warrant said',\n",
       "  'the tipster said the men did not admit to killing the girl but did say that they might have hit her in the head the search warrant said',\n",
       "  'adam baker was arrested in late october in nearby catawba county on eight charges five counts of writing bad checks and three counts of failing to appear in court authorities said the charges were unrelated to zahras disappearance and he was later released on bail',\n",
       "  'the disappearance of zahra made international news the girl whose biological parents were both from australia lost part of her left leg at age and lost hearing in both ears while being treated for cancer']}"
      ]
     },
     "execution_count": 13,
     "metadata": {},
     "output_type": "execute_result"
    }
   ],
   "source": [
    "cleaned_stories[60]"
   ]
  },
  {
   "cell_type": "code",
   "execution_count": 14,
   "metadata": {},
   "outputs": [],
   "source": [
    "dump(cleaned_stories, open('/home/nikhil/Downloads/cnn/processed_sample_data/cnn_dataset.pkl', 'wb'))"
   ]
  },
  {
   "cell_type": "code",
   "execution_count": 15,
   "metadata": {},
   "outputs": [
    {
     "name": "stdout",
     "output_type": "stream",
     "text": [
      "Loaded Stories 100\n"
     ]
    }
   ],
   "source": [
    "cleaned_stories = load(open('/home/nikhil/Downloads/cnn/processed_sample_data/cnn_dataset.pkl', 'rb'))\n",
    "print('Loaded Stories %d' % len(cleaned_stories))"
   ]
  },
  {
   "cell_type": "markdown",
   "metadata": {},
   "source": [
    "---"
   ]
  },
  {
   "cell_type": "markdown",
   "metadata": {},
   "source": [
    "## Amazon Food reviews Dataset"
   ]
  },
  {
   "cell_type": "markdown",
   "metadata": {},
   "source": [
    "## Imports"
   ]
  },
  {
   "cell_type": "code",
   "execution_count": 38,
   "metadata": {},
   "outputs": [],
   "source": [
    "import pandas as pd\n",
    "import numpy as np\n",
    "import re"
   ]
  },
  {
   "cell_type": "code",
   "execution_count": 39,
   "metadata": {},
   "outputs": [],
   "source": [
    "AMAZON_DATA_PATH= '/home/nikhil/Downloads/amazon-fine-food-reviews/Reviews.csv'"
   ]
  },
  {
   "cell_type": "code",
   "execution_count": 45,
   "metadata": {},
   "outputs": [],
   "source": [
    "class Load_amazon_data:\n",
    "    def __init__(self, dir_path, seed= 0):\n",
    "        self.dir_path= dir_path\n",
    "        np.random.seed(seed)\n",
    "        \n",
    "    def load(self):\n",
    "        \"\"\"\n",
    "        Reads data from the given directory path\n",
    "        \"\"\"\n",
    "        return pd.read_csv(self.dir_path)\n",
    "    \n",
    "    def drop(self):\n",
    "        \"\"\"\n",
    "        Drops unnecessary columns\n",
    "        \"\"\"\n",
    "        \n",
    "        data= self.load()\n",
    "        \n",
    "        data = data.dropna()\n",
    "        data= data.iloc[:, -2:]\n",
    "        data = data.reset_index(drop= True)\n",
    "        \n",
    "        return data\n",
    "    \n",
    "    def analyze_data(self):\n",
    "        \"\"\"\n",
    "        Prints some sample data points from the cleaned data\n",
    "        \"\"\"\n",
    "        data= self.drop()\n",
    "        \n",
    "        for sr_no, i in enumerate(np.random.randint(10, 100, size= 5)):\n",
    "            print(\"_________________________\")\n",
    "            print(\"Data Point {0}\".format(sr_no + 1))\n",
    "            print(\"Summary:\")\n",
    "            print(data['Summary'].iloc[i])\n",
    "            print(\"Full Text:\")\n",
    "            print(data['Text'].iloc[i])"
   ]
  },
  {
   "cell_type": "code",
   "execution_count": 46,
   "metadata": {},
   "outputs": [],
   "source": [
    "obj= Load_amazon_data(AMAZON_DATA_PATH, seed= 1)"
   ]
  },
  {
   "cell_type": "markdown",
   "metadata": {},
   "source": [
    "## Load the Data"
   ]
  },
  {
   "cell_type": "code",
   "execution_count": 47,
   "metadata": {},
   "outputs": [
    {
     "data": {
      "text/html": [
       "<div>\n",
       "<style scoped>\n",
       "    .dataframe tbody tr th:only-of-type {\n",
       "        vertical-align: middle;\n",
       "    }\n",
       "\n",
       "    .dataframe tbody tr th {\n",
       "        vertical-align: top;\n",
       "    }\n",
       "\n",
       "    .dataframe thead th {\n",
       "        text-align: right;\n",
       "    }\n",
       "</style>\n",
       "<table border=\"1\" class=\"dataframe\">\n",
       "  <thead>\n",
       "    <tr style=\"text-align: right;\">\n",
       "      <th></th>\n",
       "      <th>Id</th>\n",
       "      <th>ProductId</th>\n",
       "      <th>UserId</th>\n",
       "      <th>ProfileName</th>\n",
       "      <th>HelpfulnessNumerator</th>\n",
       "      <th>HelpfulnessDenominator</th>\n",
       "      <th>Score</th>\n",
       "      <th>Time</th>\n",
       "      <th>Summary</th>\n",
       "      <th>Text</th>\n",
       "    </tr>\n",
       "  </thead>\n",
       "  <tbody>\n",
       "    <tr>\n",
       "      <th>0</th>\n",
       "      <td>1</td>\n",
       "      <td>B001E4KFG0</td>\n",
       "      <td>A3SGXH7AUHU8GW</td>\n",
       "      <td>delmartian</td>\n",
       "      <td>1</td>\n",
       "      <td>1</td>\n",
       "      <td>5</td>\n",
       "      <td>1303862400</td>\n",
       "      <td>Good Quality Dog Food</td>\n",
       "      <td>I have bought several of the Vitality canned d...</td>\n",
       "    </tr>\n",
       "    <tr>\n",
       "      <th>1</th>\n",
       "      <td>2</td>\n",
       "      <td>B00813GRG4</td>\n",
       "      <td>A1D87F6ZCVE5NK</td>\n",
       "      <td>dll pa</td>\n",
       "      <td>0</td>\n",
       "      <td>0</td>\n",
       "      <td>1</td>\n",
       "      <td>1346976000</td>\n",
       "      <td>Not as Advertised</td>\n",
       "      <td>Product arrived labeled as Jumbo Salted Peanut...</td>\n",
       "    </tr>\n",
       "    <tr>\n",
       "      <th>2</th>\n",
       "      <td>3</td>\n",
       "      <td>B000LQOCH0</td>\n",
       "      <td>ABXLMWJIXXAIN</td>\n",
       "      <td>Natalia Corres \"Natalia Corres\"</td>\n",
       "      <td>1</td>\n",
       "      <td>1</td>\n",
       "      <td>4</td>\n",
       "      <td>1219017600</td>\n",
       "      <td>\"Delight\" says it all</td>\n",
       "      <td>This is a confection that has been around a fe...</td>\n",
       "    </tr>\n",
       "    <tr>\n",
       "      <th>3</th>\n",
       "      <td>4</td>\n",
       "      <td>B000UA0QIQ</td>\n",
       "      <td>A395BORC6FGVXV</td>\n",
       "      <td>Karl</td>\n",
       "      <td>3</td>\n",
       "      <td>3</td>\n",
       "      <td>2</td>\n",
       "      <td>1307923200</td>\n",
       "      <td>Cough Medicine</td>\n",
       "      <td>If you are looking for the secret ingredient i...</td>\n",
       "    </tr>\n",
       "    <tr>\n",
       "      <th>4</th>\n",
       "      <td>5</td>\n",
       "      <td>B006K2ZZ7K</td>\n",
       "      <td>A1UQRSCLF8GW1T</td>\n",
       "      <td>Michael D. Bigham \"M. Wassir\"</td>\n",
       "      <td>0</td>\n",
       "      <td>0</td>\n",
       "      <td>5</td>\n",
       "      <td>1350777600</td>\n",
       "      <td>Great taffy</td>\n",
       "      <td>Great taffy at a great price.  There was a wid...</td>\n",
       "    </tr>\n",
       "  </tbody>\n",
       "</table>\n",
       "</div>"
      ],
      "text/plain": [
       "   Id   ProductId          UserId                      ProfileName  \\\n",
       "0   1  B001E4KFG0  A3SGXH7AUHU8GW                       delmartian   \n",
       "1   2  B00813GRG4  A1D87F6ZCVE5NK                           dll pa   \n",
       "2   3  B000LQOCH0   ABXLMWJIXXAIN  Natalia Corres \"Natalia Corres\"   \n",
       "3   4  B000UA0QIQ  A395BORC6FGVXV                             Karl   \n",
       "4   5  B006K2ZZ7K  A1UQRSCLF8GW1T    Michael D. Bigham \"M. Wassir\"   \n",
       "\n",
       "   HelpfulnessNumerator  HelpfulnessDenominator  Score        Time  \\\n",
       "0                     1                       1      5  1303862400   \n",
       "1                     0                       0      1  1346976000   \n",
       "2                     1                       1      4  1219017600   \n",
       "3                     3                       3      2  1307923200   \n",
       "4                     0                       0      5  1350777600   \n",
       "\n",
       "                 Summary                                               Text  \n",
       "0  Good Quality Dog Food  I have bought several of the Vitality canned d...  \n",
       "1      Not as Advertised  Product arrived labeled as Jumbo Salted Peanut...  \n",
       "2  \"Delight\" says it all  This is a confection that has been around a fe...  \n",
       "3         Cough Medicine  If you are looking for the secret ingredient i...  \n",
       "4            Great taffy  Great taffy at a great price.  There was a wid...  "
      ]
     },
     "execution_count": 47,
     "metadata": {},
     "output_type": "execute_result"
    }
   ],
   "source": [
    "data= obj.load()\n",
    "data.head()"
   ]
  },
  {
   "cell_type": "markdown",
   "metadata": {},
   "source": [
    "## Dropping Unnecessary columns"
   ]
  },
  {
   "cell_type": "code",
   "execution_count": 48,
   "metadata": {},
   "outputs": [
    {
     "data": {
      "text/html": [
       "<div>\n",
       "<style scoped>\n",
       "    .dataframe tbody tr th:only-of-type {\n",
       "        vertical-align: middle;\n",
       "    }\n",
       "\n",
       "    .dataframe tbody tr th {\n",
       "        vertical-align: top;\n",
       "    }\n",
       "\n",
       "    .dataframe thead th {\n",
       "        text-align: right;\n",
       "    }\n",
       "</style>\n",
       "<table border=\"1\" class=\"dataframe\">\n",
       "  <thead>\n",
       "    <tr style=\"text-align: right;\">\n",
       "      <th></th>\n",
       "      <th>Summary</th>\n",
       "      <th>Text</th>\n",
       "    </tr>\n",
       "  </thead>\n",
       "  <tbody>\n",
       "    <tr>\n",
       "      <th>0</th>\n",
       "      <td>Good Quality Dog Food</td>\n",
       "      <td>I have bought several of the Vitality canned d...</td>\n",
       "    </tr>\n",
       "    <tr>\n",
       "      <th>1</th>\n",
       "      <td>Not as Advertised</td>\n",
       "      <td>Product arrived labeled as Jumbo Salted Peanut...</td>\n",
       "    </tr>\n",
       "    <tr>\n",
       "      <th>2</th>\n",
       "      <td>\"Delight\" says it all</td>\n",
       "      <td>This is a confection that has been around a fe...</td>\n",
       "    </tr>\n",
       "    <tr>\n",
       "      <th>3</th>\n",
       "      <td>Cough Medicine</td>\n",
       "      <td>If you are looking for the secret ingredient i...</td>\n",
       "    </tr>\n",
       "    <tr>\n",
       "      <th>4</th>\n",
       "      <td>Great taffy</td>\n",
       "      <td>Great taffy at a great price.  There was a wid...</td>\n",
       "    </tr>\n",
       "  </tbody>\n",
       "</table>\n",
       "</div>"
      ],
      "text/plain": [
       "                 Summary                                               Text\n",
       "0  Good Quality Dog Food  I have bought several of the Vitality canned d...\n",
       "1      Not as Advertised  Product arrived labeled as Jumbo Salted Peanut...\n",
       "2  \"Delight\" says it all  This is a confection that has been around a fe...\n",
       "3         Cough Medicine  If you are looking for the secret ingredient i...\n",
       "4            Great taffy  Great taffy at a great price.  There was a wid..."
      ]
     },
     "execution_count": 48,
     "metadata": {},
     "output_type": "execute_result"
    }
   ],
   "source": [
    "data= obj.drop()\n",
    "data.head()"
   ]
  },
  {
   "cell_type": "markdown",
   "metadata": {},
   "source": [
    "## Analyze the data"
   ]
  },
  {
   "cell_type": "code",
   "execution_count": 49,
   "metadata": {},
   "outputs": [
    {
     "name": "stdout",
     "output_type": "stream",
     "text": [
      "_________________________\n",
      "Data Point 1\n",
      "Summary:\n",
      "Mushy\n",
      "Full Text:\n",
      "The flavors are good.  However, I do not see any differce between this and Oaker Oats brand - they are both mushy.\n",
      "_________________________\n",
      "Data Point 2\n",
      "Summary:\n",
      "Delicious product!\n",
      "Full Text:\n",
      "I can remember buying this candy as a kid and the quality hasn't dropped in all these years. Still a superb product you won't be disappointed with.\n",
      "_________________________\n",
      "Data Point 3\n",
      "Summary:\n",
      "Forget Molecular Gastronomy - this stuff rockes a coffee creamer!\n",
      "Full Text:\n",
      "I know the product title says Molecular Gastronomy, but don't let that scare you off.  I have been looking for this for a while now, not for food science, but for something more down to earth.  I use it to make my own coffee creamer.<br /><br />I have to have my coffee blonde and sweet - but the flavored creamers are full of the bad kinds of fat, and honestly, I hate to use manufactured \"food\" items.  I really don't think they are good for the body.  On the other hand, I hate using cold milk or cream, because I like HOT coffee.<br /><br />I stumbled across this on Amazon one day and got the idea of making my own creamer.  I also bought low-fat (non-instant) milk powder and regular milk powder. The non-instant lowfat milk is a little sweeter and tastes fresher than regular instant low-fat milk, but does not dissolve good in cold water - which is not a problem for hot coffee.  You will have to play with the ratios - I would not do just the heavy cream, it made the coffee too rich. Also, I think the powder is too expensive to just use on it's own. I like mixing 1/3 of each together.<br /><br />For flavoring, I bough cocoa bean powder, vanilla bean powder, and caster (superfine) sugar.  I mix up small batches along with spices like cinnamon and nutmeg to make my own flavored creamers.  If you wanted, you could use a fake sweetner powder instead.  I make up small amounts that I store in jelly canning jars. I also use my little food chopper/food processor to blend everything, so the sugar is not heavier and sinks to the bottom.  Let it settle for a bit before opening the top though.<br /><br />This stuff tastes WAY better than the storebought creamers and it is fun to experiment and come up with your own flavors.  I am going to try using some essential oils next and see if I can get a good chocolate/orange mix.<br /><br />All of the ingredients I mentioned are here online.  Take the time to experiment.  Maybe you don't use any low-fat milk. Or don't add any flavorings.  It is up to you.  Also, would make great housewarming/host(ess) gifts.<br /><br />I am sure other molecular people will be able to tell you more of what you can do with it, and I am sure I will experiment with it in cooking - but the main reason I bought it was to make my own creamer and it worked out great.\n",
      "_________________________\n",
      "Data Point 4\n",
      "Summary:\n",
      "Home delivered twizlers\n",
      "Full Text:\n",
      "Candy was delivered very fast and was purchased at a reasonable price.  I was home bound and unable to get to a store so this was perfect for me.\n",
      "_________________________\n",
      "Data Point 5\n",
      "Summary:\n",
      "Great food!\n",
      "Full Text:\n",
      "We have three dogs and all of them love this food!  We bought it specifically for one of our dogs who has food allergies and it works great for him, no more hot spots or tummy problems.<br />I LOVE that it ships right to our door with free shipping.\n"
     ]
    }
   ],
   "source": [
    "obj.analyze_data()"
   ]
  },
  {
   "cell_type": "code",
   "execution_count": 50,
   "metadata": {},
   "outputs": [],
   "source": [
    "contractions = { \n",
    "\"ain't\": \"am not\",\n",
    "\"aren't\": \"are not\",\n",
    "\"can't\": \"cannot\",\n",
    "\"can't've\": \"cannot have\",\n",
    "\"'cause\": \"because\",\n",
    "\"could've\": \"could have\",\n",
    "\"couldn't\": \"could not\",\n",
    "\"couldn't've\": \"could not have\",\n",
    "\"didn't\": \"did not\",\n",
    "\"doesn't\": \"does not\",\n",
    "\"don't\": \"do not\",\n",
    "\"hadn't\": \"had not\",\n",
    "\"hadn't've\": \"had not have\",\n",
    "\"hasn't\": \"has not\",\n",
    "\"haven't\": \"have not\",\n",
    "\"he'd\": \"he would\",\n",
    "\"he'd've\": \"he would have\",\n",
    "\"he'll\": \"he will\",\n",
    "\"he's\": \"he is\",\n",
    "\"how'd\": \"how did\",\n",
    "\"how'll\": \"how will\",\n",
    "\"how's\": \"how is\",\n",
    "\"i'd\": \"i would\",\n",
    "\"i'll\": \"i will\",\n",
    "\"i'm\": \"i am\",\n",
    "\"i've\": \"i have\",\n",
    "\"isn't\": \"is not\",\n",
    "\"it'd\": \"it would\",\n",
    "\"it'll\": \"it will\",\n",
    "\"it's\": \"it is\",\n",
    "\"let's\": \"let us\",\n",
    "\"ma'am\": \"madam\",\n",
    "\"mayn't\": \"may not\",\n",
    "\"might've\": \"might have\",\n",
    "\"mightn't\": \"might not\",\n",
    "\"must've\": \"must have\",\n",
    "\"mustn't\": \"must not\",\n",
    "\"needn't\": \"need not\",\n",
    "\"oughtn't\": \"ought not\",\n",
    "\"shan't\": \"shall not\",\n",
    "\"sha'n't\": \"shall not\",\n",
    "\"she'd\": \"she would\",\n",
    "\"she'll\": \"she will\",\n",
    "\"she's\": \"she is\",\n",
    "\"should've\": \"should have\",\n",
    "\"shouldn't\": \"should not\",\n",
    "\"that'd\": \"that would\",\n",
    "\"that's\": \"that is\",\n",
    "\"there'd\": \"there had\",\n",
    "\"there's\": \"there is\",\n",
    "\"they'd\": \"they would\",\n",
    "\"they'll\": \"they will\",\n",
    "\"they're\": \"they are\",\n",
    "\"they've\": \"they have\",\n",
    "\"wasn't\": \"was not\",\n",
    "\"we'd\": \"we would\",\n",
    "\"we'll\": \"we will\",\n",
    "\"we're\": \"we are\",\n",
    "\"we've\": \"we have\",\n",
    "\"weren't\": \"were not\",\n",
    "\"what'll\": \"what will\",\n",
    "\"what're\": \"what are\",\n",
    "\"what's\": \"what is\",\n",
    "\"what've\": \"what have\",\n",
    "\"where'd\": \"where did\",\n",
    "\"where's\": \"where is\",\n",
    "\"who'll\": \"who will\",\n",
    "\"who's\": \"who is\",\n",
    "\"won't\": \"will not\",\n",
    "\"wouldn't\": \"would not\",\n",
    "\"you'd\": \"you would\",\n",
    "\"you'll\": \"you will\",\n",
    "\"you're\": \"you are\"\n",
    "}"
   ]
  },
  {
   "cell_type": "code",
   "execution_count": 61,
   "metadata": {},
   "outputs": [],
   "source": [
    "class Data_cleaning:\n",
    "    def __init__(self):\n",
    "        self.clean_summaries= []\n",
    "        self.clean_texts= []\n",
    "\n",
    "    def clean_text(self, text, remove_stopwords = False):\n",
    "        \"\"\"\n",
    "        Defines a series of cleaning operations \n",
    "        \"\"\"\n",
    "        text = text.lower()\n",
    "\n",
    "        if True:\n",
    "            text = text.split()\n",
    "            new_text = []\n",
    "            for word in text:\n",
    "                if word in contractions:\n",
    "                    new_text.append(contractions[word])\n",
    "                else:\n",
    "                    new_text.append(word)\n",
    "            text = \" \".join(new_text)\n",
    "\n",
    "        text = re.sub(r'https?:\\/\\/.*[\\r\\n]*', '', text, flags=re.MULTILINE)\n",
    "        text = re.sub(r'\\<a href', ' ', text)\n",
    "        text = re.sub(r'&amp;', '', text) \n",
    "        text = re.sub(r'[_\"\\-;%()|+&=*%.,!?:#$@\\[\\]/]', ' ', text)\n",
    "        text = re.sub(r'<br />', ' ', text)\n",
    "        text = re.sub(r'<br >', ' ', text)\n",
    "        text = re.sub(r'<br  >', ' ', text)\n",
    "        text = re.sub(r'\\'', ' ', text)\n",
    "\n",
    "        # Optionally, remove stop words\n",
    "        if remove_stopwords:\n",
    "            text = text.split()\n",
    "            stops = set(stopwords.words(\"english\"))\n",
    "            text = [w for w in text if not w in stops]\n",
    "            text = \" \".join(text)\n",
    "\n",
    "        return text\n",
    "    \n",
    "    def clean(self, data):\n",
    "        \"\"\"\n",
    "        Applies the clean_text() to the entire dataset\n",
    "        \"\"\"\n",
    "        for summary in data.Summary:\n",
    "            self.clean_summaries.append(self.clean_text(summary))\n",
    "\n",
    "        print(\"Summaries are complete.\")\n",
    "\n",
    "        for text in data.Text:\n",
    "            self.clean_texts.append(self.clean_text(text))\n",
    "\n",
    "        print(\"Texts are complete.\")\n",
    "        \n",
    "        return self.clean_summaries, self.clean_texts"
   ]
  },
  {
   "cell_type": "code",
   "execution_count": 62,
   "metadata": {},
   "outputs": [
    {
     "name": "stdout",
     "output_type": "stream",
     "text": [
      "Summaries are complete.\n",
      "Texts are complete.\n"
     ]
    }
   ],
   "source": [
    "# import nltk\n",
    "# nltk.download('stopwords')\n",
    "\n",
    "clean_obj= Data_cleaning()\n",
    "clean_summaries, clean_texts= clean_obj.clean(data)"
   ]
  },
  {
   "cell_type": "code",
   "execution_count": 63,
   "metadata": {},
   "outputs": [
    {
     "name": "stdout",
     "output_type": "stream",
     "text": [
      "_________________________\n",
      "Data Point #1\n",
      "Summary:\n",
      "mushy\n",
      "Full Text:\n",
      "the flavors are good  however  i do not see any differce between this and oaker oats brand   they are both mushy \n",
      "_________________________\n",
      "Data Point #2\n",
      "Summary:\n",
      "delicious product \n",
      "Full Text:\n",
      "i can remember buying this candy as a kid and the quality has not dropped in all these years  still a superb product you will not be disappointed with \n",
      "_________________________\n",
      "Data Point #3\n",
      "Summary:\n",
      "forget molecular gastronomy   this stuff rockes a coffee creamer \n",
      "Full Text:\n",
      "i know the product title says molecular gastronomy  but do not let that scare you off  i have been looking for this for a while now  not for food science  but for something more down to earth  i use it to make my own coffee creamer   i have to have my coffee blonde and sweet   but the flavored creamers are full of the bad kinds of fat  and honestly  i hate to use manufactured  food  items  i really do not think they are good for the body  on the other hand  i hate using cold milk or cream  because i like hot coffee   i stumbled across this on amazon one day and got the idea of making my own creamer  i also bought low fat  non instant  milk powder and regular milk powder  the non instant lowfat milk is a little sweeter and tastes fresher than regular instant low fat milk  but does not dissolve good in cold water   which is not a problem for hot coffee  you will have to play with the ratios   i would not do just the heavy cream  it made the coffee too rich  also  i think the powder is too expensive to just use on it is own  i like mixing 1 3 of each together   for flavoring  i bough cocoa bean powder  vanilla bean powder  and caster  superfine  sugar  i mix up small batches along with spices like cinnamon and nutmeg to make my own flavored creamers  if you wanted  you could use a fake sweetner powder instead  i make up small amounts that i store in jelly canning jars  i also use my little food chopper food processor to blend everything  so the sugar is not heavier and sinks to the bottom  let it settle for a bit before opening the top though   this stuff tastes way better than the storebought creamers and it is fun to experiment and come up with your own flavors  i am going to try using some essential oils next and see if i can get a good chocolate orange mix   all of the ingredients i mentioned are here online  take the time to experiment  maybe you do not use any low fat milk  or do not add any flavorings  it is up to you  also  would make great housewarming host ess  gifts   i am sure other molecular people will be able to tell you more of what you can do with it  and i am sure i will experiment with it in cooking   but the main reason i bought it was to make my own creamer and it worked out great \n",
      "_________________________\n",
      "Data Point #4\n",
      "Summary:\n",
      "home delivered twizlers\n",
      "Full Text:\n",
      "candy was delivered very fast and was purchased at a reasonable price  i was home bound and unable to get to a store so this was perfect for me \n",
      "_________________________\n",
      "Data Point #5\n",
      "Summary:\n",
      "great food \n",
      "Full Text:\n",
      "we have three dogs and all of them love this food  we bought it specifically for one of our dogs who has food allergies and it works great for him  no more hot spots or tummy problems  i love that it ships right to our door with free shipping \n"
     ]
    }
   ],
   "source": [
    "np.random.seed(1)\n",
    "\n",
    "for sr_no, i in enumerate(np.random.randint(10, 100, size= 5)):\n",
    "    print(\"_________________________\")\n",
    "    print(\"Data Point #{0}\".format(sr_no + 1))\n",
    "    print(\"Summary:\")\n",
    "    print(clean_summaries[i])\n",
    "    print(\"Full Text:\")\n",
    "    print(clean_texts[i])"
   ]
  }
 ],
 "metadata": {
  "kernelspec": {
   "display_name": "Python 3",
   "language": "python",
   "name": "python3"
  },
  "language_info": {
   "codemirror_mode": {
    "name": "ipython",
    "version": 3
   },
   "file_extension": ".py",
   "mimetype": "text/x-python",
   "name": "python",
   "nbconvert_exporter": "python",
   "pygments_lexer": "ipython3",
   "version": "3.6.7"
  }
 },
 "nbformat": 4,
 "nbformat_minor": 2
}
